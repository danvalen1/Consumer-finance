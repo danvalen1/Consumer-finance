{
 "cells": [
  {
   "cell_type": "code",
   "execution_count": 40,
   "metadata": {},
   "outputs": [
    {
     "data": {
      "text/plain": [
       "['../data/extracted/p19_rw1.dta']"
      ]
     },
     "execution_count": 40,
     "metadata": {},
     "output_type": "execute_result"
    }
   ],
   "source": [
    "# All data (public)\n",
    "\n",
    "\n",
    "import urllib.request\n",
    "import zipfile\n",
    "\n",
    "\n",
    "targetSCFzip = '../data/extracted/SCF2019_data_public.zip'\n",
    "targetdir = '../data/extracted/'\n",
    "\n",
    "\n",
    "def savingSCF2019(targetzip, targetdir):\n",
    "\n",
    "    # URL for SCF 2019 Stata Zip file\n",
    "    url = 'https://www.federalreserve.gov/econres/files/scf2019rw1s.zip'\n",
    "\n",
    "\n",
    "    # Saving Zip file\n",
    "    urllib.request.urlretrieve(url, targetzip)\n",
    "\n",
    "    # Unzipping file\n",
    "    with zipfile.ZipFile(targetzip, 'r') as zip_ref:\n",
    "        zip_ref.extractall(targetdir)\n",
    "        # Get list of files names in zip\n",
    "        files = zip_ref.namelist()\n",
    "        \n",
    "    # Locations of extracted files   \n",
    "    SCF_file_locs = [] \n",
    "    for i in files:\n",
    "        SCF_file_locs.append(targetdir + i)\n",
    "    \n",
    "    return SCF_file_locs\n",
    "\n",
    "savingSCF2019(targetSCFzip, targetdir)\n",
    "        \n"
   ]
  },
  {
   "cell_type": "code",
   "execution_count": 30,
   "metadata": {},
   "outputs": [
    {
     "data": {
      "text/plain": [
       "(5777, 1)"
      ]
     },
     "execution_count": 30,
     "metadata": {},
     "output_type": "execute_result"
    }
   ],
   "source": [
    "import pandas as pd\n",
    "TargetData = ['yy1']\n",
    "\n",
    "SCF2019 = pd.read_stata(\n",
    "    savingSCF2019(targetSCFzip, targetdir), columns=TargetData)\n",
    "\n",
    "SCF2019.shape"
   ]
  },
  {
   "cell_type": "code",
   "execution_count": 35,
   "metadata": {},
   "outputs": [
    {
     "name": "stderr",
     "output_type": "stream",
     "text": [
      "UsageError: Line magic function `%memit` not found.\n"
     ]
    }
   ],
   "source": [
    "\n",
    "def lol(x):\n",
    "    return x \n",
    "%memit lol(500)"
   ]
  },
  {
   "cell_type": "code",
   "execution_count": 17,
   "metadata": {},
   "outputs": [
    {
     "name": "stdout",
     "output_type": "stream",
     "text": [
      "<class 'pandas.core.frame.DataFrame'>\n",
      "RangeIndex: 28885 entries, 0 to 28884\n",
      "Columns: 351 entries, YY1 to NINCQRTCAT\n",
      "dtypes: float64(74), int64(277)\n",
      "memory usage: 77.4 MB\n"
     ]
    }
   ],
   "source": [
    "# Summary Data\n",
    "\n",
    "import pandas as pd\n",
    "\n",
    "df = pd.read_csv('../data/SCFP2019.csv')\n",
    "\n",
    "df.info()"
   ]
  },
  {
   "cell_type": "code",
   "execution_count": 18,
   "metadata": {},
   "outputs": [],
   "source": [
    "# Variable maps\n",
    "\n",
    "df_map = pd.read_csv('../data/2019map.txt', delimiter='\\t')\n",
    "df_map.columns = ['code', 'descrip', 'var3', 'var4']"
   ]
  },
  {
   "cell_type": "code",
   "execution_count": 15,
   "metadata": {},
   "outputs": [
    {
     "data": {
      "text/html": [
       "<div>\n",
       "<style scoped>\n",
       "    .dataframe tbody tr th:only-of-type {\n",
       "        vertical-align: middle;\n",
       "    }\n",
       "\n",
       "    .dataframe tbody tr th {\n",
       "        vertical-align: top;\n",
       "    }\n",
       "\n",
       "    .dataframe thead th {\n",
       "        text-align: right;\n",
       "    }\n",
       "</style>\n",
       "<table border=\"1\" class=\"dataframe\">\n",
       "  <thead>\n",
       "    <tr style=\"text-align: right;\">\n",
       "      <th></th>\n",
       "      <th>code</th>\n",
       "      <th>descrip</th>\n",
       "      <th>var3</th>\n",
       "      <th>var4</th>\n",
       "    </tr>\n",
       "  </thead>\n",
       "  <tbody>\n",
       "    <tr>\n",
       "      <th>0</th>\n",
       "      <td>J19</td>\n",
       "      <td>6.1</td>\n",
       "      <td>6</td>\n",
       "      <td>12</td>\n",
       "    </tr>\n",
       "    <tr>\n",
       "      <th>1</th>\n",
       "      <td>J100</td>\n",
       "      <td>6.1</td>\n",
       "      <td>6</td>\n",
       "      <td>18</td>\n",
       "    </tr>\n",
       "    <tr>\n",
       "      <th>2</th>\n",
       "      <td>J101</td>\n",
       "      <td>6.1</td>\n",
       "      <td>6</td>\n",
       "      <td>24</td>\n",
       "    </tr>\n",
       "    <tr>\n",
       "      <th>3</th>\n",
       "      <td>J102</td>\n",
       "      <td>6.1</td>\n",
       "      <td>6</td>\n",
       "      <td>30</td>\n",
       "    </tr>\n",
       "    <tr>\n",
       "      <th>4</th>\n",
       "      <td>J103</td>\n",
       "      <td>6.1</td>\n",
       "      <td>6</td>\n",
       "      <td>36</td>\n",
       "    </tr>\n",
       "  </tbody>\n",
       "</table>\n",
       "</div>"
      ],
      "text/plain": [
       "   code  descrip  var3  var4\n",
       "0   J19      6.1     6    12\n",
       "1  J100      6.1     6    18\n",
       "2  J101      6.1     6    24\n",
       "3  J102      6.1     6    30\n",
       "4  J103      6.1     6    36"
      ]
     },
     "execution_count": 15,
     "metadata": {},
     "output_type": "execute_result"
    }
   ],
   "source": [
    "df_map.head()"
   ]
  },
  {
   "cell_type": "markdown",
   "metadata": {},
   "source": [
    "YY1 is household ID; X42001 is used for weighting (relatively wealthy families are oversampled)"
   ]
  }
 ],
 "metadata": {
  "kernelspec": {
   "display_name": "learn-env",
   "language": "python",
   "name": "learn-env"
  },
  "language_info": {
   "codemirror_mode": {
    "name": "ipython",
    "version": 3
   },
   "file_extension": ".py",
   "mimetype": "text/x-python",
   "name": "python",
   "nbconvert_exporter": "python",
   "pygments_lexer": "ipython3",
   "version": "3.6.9"
  }
 },
 "nbformat": 4,
 "nbformat_minor": 4
}

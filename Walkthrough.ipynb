{
 "cells": [
  {
   "cell_type": "markdown",
   "metadata": {},
   "source": [
    "# **Survey of Consumer Finances Analysis**\n",
    "## Dan Valenzuela\n",
    "\n",
    "***\n",
    "\n"
   ]
  },
  {
   "cell_type": "markdown",
   "metadata": {},
   "source": [
    "## **Overview** <a id=\"Overview\"></a>"
   ]
  },
  {
   "cell_type": "markdown",
   "metadata": {},
   "source": []
  },
  {
   "cell_type": "markdown",
   "metadata": {},
   "source": [
    "[**1. Business Problem**](#Business-Problem)\n",
    "\n",
    "[**2. Data Understanding**](#Data-Understanding)\n",
    "\n",
    "[**3. Data Preparation**](#Data-Preparation)\n",
    "\n",
    "[**4. Data Analysis**](#Data-Analysis)\n",
    "\n",
    "[**5. Evaluation**](#Evaluation)\n",
    "\n",
    "[**6. Conclusion**](#Conclusion)\n",
    "***"
   ]
  },
  {
   "cell_type": "markdown",
   "metadata": {},
   "source": [
    "## **Business Problem** <a id=\"Business-Understanding\"></a>\n",
    "[*↑ Back to overview*](#Overview)"
   ]
  },
  {
   "cell_type": "markdown",
   "metadata": {},
   "source": []
  },
  {
   "cell_type": "markdown",
   "metadata": {},
   "source": [
    "[*↑ Back to overview*](#Overview)\n",
    "***"
   ]
  },
  {
   "cell_type": "markdown",
   "metadata": {},
   "source": [
    "## **Data Understanding** <a id=\"Data-Understanding\"></a>\n",
    "[*↑ Back to overview*](#Overview)"
   ]
  },
  {
   "cell_type": "markdown",
   "metadata": {},
   "source": [
    "### Datasets\n"
   ]
  },
  {
   "cell_type": "markdown",
   "metadata": {},
   "source": [
    "| EXAMPLE | EXAMPLE|\n",
    "| --- | --- |\n",
    "| primary_title | movie |\n",
    "| start_year | release_date |\n",
    "| genres |  |\n",
    "|  | production_budget |\n",
    "|  | domestic_gross |\n",
    "|  | worldwide_gross |\n"
   ]
  },
  {
   "cell_type": "markdown",
   "metadata": {},
   "source": [
    "### Key Data for Merging Datasets and Analysis <a id=\"Key-Data\" ></a>\n",
    "\n"
   ]
  },
  {
   "cell_type": "markdown",
   "metadata": {},
   "source": [
    "[*↑ Back to overview*](#Overview)\n",
    "***"
   ]
  },
  {
   "cell_type": "markdown",
   "metadata": {},
   "source": [
    "## **Data Preparation** <a id=\"Data-Preparation\"></a>\n",
    "[*↑ Back to overview*](#Overview)"
   ]
  },
  {
   "cell_type": "markdown",
   "metadata": {},
   "source": [
    "### Merging Data\n",
    "\n",
    "\n",
    "\n"
   ]
  },
  {
   "cell_type": "markdown",
   "metadata": {},
   "source": [
    "### Cleaning Data <a id=\"Cleaning-Data\"></a>\n",
    "\n"
   ]
  },
  {
   "cell_type": "markdown",
   "metadata": {},
   "source": [
    "[*↑ Back to overview*](#Overview)\n",
    "***"
   ]
  },
  {
   "cell_type": "markdown",
   "metadata": {},
   "source": [
    "## **Data Analysis** <a id=\"Data-Analysis\"></a>\n",
    "[*↑ Back to overview*](#Overview)"
   ]
  },
  {
   "cell_type": "markdown",
   "metadata": {},
   "source": [
    "[*↑ Back to overview*](#Overview)\n",
    "***"
   ]
  },
  {
   "cell_type": "markdown",
   "metadata": {},
   "source": [
    "## **Evaluation**<a id=\"Evaluation\"></a>\n",
    "[*↑ Back to overview*](#Overview)"
   ]
  },
  {
   "cell_type": "markdown",
   "metadata": {},
   "source": [
    "[*↑ Back to overview*](#Overview)\n",
    "***"
   ]
  },
  {
   "cell_type": "markdown",
   "metadata": {},
   "source": [
    "## **Conclusion**<a id=\"Conclusion\"></a>\n",
    "[*↑ Back to overview*](#Overview)"
   ]
  },
  {
   "cell_type": "markdown",
   "metadata": {},
   "source": [
    "[*↑ Back to overview*](#Overview)\n",
    "***"
   ]
  },
  {
   "cell_type": "markdown",
   "metadata": {},
   "source": [
    "## **Next Steps**\n",
    "[*↑ Back to overview*](#Overview)"
   ]
  },
  {
   "cell_type": "markdown",
   "metadata": {},
   "source": [
    "[*↑ Back to overview*](#Overview)\n",
    "***"
   ]
  }
 ],
 "metadata": {
  "kernelspec": {
   "display_name": "learn-env",
   "language": "python",
   "name": "learn-env"
  },
  "language_info": {
   "codemirror_mode": {
    "name": "ipython",
    "version": 3
   },
   "file_extension": ".py",
   "mimetype": "text/x-python",
   "name": "python",
   "nbconvert_exporter": "python",
   "pygments_lexer": "ipython3",
   "version": "3.6.9"
  }
 },
 "nbformat": 4,
 "nbformat_minor": 4
}

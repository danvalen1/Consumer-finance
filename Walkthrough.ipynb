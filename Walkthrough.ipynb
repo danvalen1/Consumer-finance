{
 "cells": [
  {
   "cell_type": "markdown",
   "metadata": {},
   "source": [
    "# **Survey of Consumer Finances Analysis**\n",
    "# Working Title: Perceptions and Reality of Household Finance Risk\n",
    "## Dan Valenzuela\n",
    "\n",
    "***\n",
    "\n"
   ]
  },
  {
   "cell_type": "markdown",
   "metadata": {},
   "source": [
    "## **Overview** <a id=\"Overview\"></a>"
   ]
  },
  {
   "cell_type": "markdown",
   "metadata": {},
   "source": []
  },
  {
   "cell_type": "markdown",
   "metadata": {},
   "source": [
    "[**1. Business Problem**](#Business-Problem)\n",
    "\n",
    "[**2. Data Understanding**](#Data-Understanding)\n",
    "\n",
    "[**3. Data Preparation**](#Data-Preparation)\n",
    "\n",
    "[**4. Data Analysis**](#Data-Analysis)\n",
    "\n",
    "[**5. Evaluation**](#Evaluation)\n",
    "\n",
    "[**6. Conclusion & Next Steps**](#Conclusion)\n",
    "\n",
    "[**7. Endnotes**](#Endnotes)\n",
    "\n",
    "***"
   ]
  },
  {
   "cell_type": "markdown",
   "metadata": {},
   "source": [
    "## **Business Problem** <a id=\"Business-Understanding\"></a>\n",
    "[*↑ Back to overview*](#Overview)"
   ]
  },
  {
   "cell_type": "markdown",
   "metadata": {},
   "source": []
  },
  {
   "cell_type": "markdown",
   "metadata": {},
   "source": [
    "[*↑ Back to overview*](#Overview)\n",
    "***"
   ]
  },
  {
   "cell_type": "markdown",
   "metadata": {},
   "source": [
    "## **Data Understanding** <a id=\"Data-Understanding\"></a>\n",
    "[*↑ Back to overview*](#Overview)"
   ]
  },
  {
   "cell_type": "markdown",
   "metadata": {},
   "source": [
    "### Datasets\n",
    "\n",
    "The data can be summarized by the [Federal Reserve](https://www.federalreserve.gov/publications/files/scf20.pdf) itself [<sup>1</sup>](#fn-1)<a id='fn-1-s'></a>: \n",
    "\n",
    "> The SCF is a triennial interview survey of U.S. families sponsored by the\n",
    "Board of Governors of the Federal Reserve System with the cooperation of the U.S.\n",
    "Department of the Treasury. Since 1992, data for the SCF have been collected by NORC, a\n",
    "research organization at the University of Chicago. Although the majority of the data are\n",
    "collected between May and December of each survey year, a small fraction of the data\n",
    "collection occurs in the first four months of the next calendar year. In the 2019 SCF, this\n",
    "portion of the data collection overlapped with early months of the COVID-19 pandemic,\n",
    "with about 9 percent of interviews conducted between February and April 2020.\n",
    "\n",
    " "
   ]
  },
  {
   "cell_type": "markdown",
   "metadata": {},
   "source": [
    "### Sampling\n",
    "From [Federal Reserve Bulletin 2020 at 40](https://www.federalreserve.gov/publications/files/scf20.pdf)\n",
    ">First, a standard multistage area-probability sample (a geographically based random sample) is selected\n",
    "to provide good coverage of characteristics, such as homeownership, that are broadly\n",
    "distributed in the population.\n",
    "Second, a supplemental sample is selected to disproportionately include wealthy families,\n",
    "which hold a relatively large share of such thinly held assets as noncorporate businesses\n",
    "and tax-exempt bonds. Called the “list sample,” this group is drawn from a list of statistical\n",
    "records derived from tax returns. These records are used under strict rules governing\n",
    "confidentiality, the rights of potential respondents to refuse participation in the survey, and\n",
    "the types of information that can be made available. Persons listed by Forbes as being\n",
    "among the wealthiest 400 people in the United States are excluded from sampling.\n",
    "\n",
    ">Of the 5,783 interviews completed for the 2019 SCF, 4,291 were from the area-probability\n",
    "sample, and 1,492 were from the list sample; for 2016, 4,754 were from the area-probability\n",
    "sample, and 1,500 were from the list sample."
   ]
  },
  {
   "cell_type": "markdown",
   "metadata": {},
   "source": [
    "### Weighting\n",
    "\n",
    "From [Federal Reserve Bulletin 2020 at 42](https://www.federalreserve.gov/publications/files/scf20.pdf)\n",
    "\n",
    ">To provide a measure of the frequency with which families similar to the sample families\n",
    "could be expected to be found in the population of all families, an analysis weight is\n",
    "computed for each case, accounting for both the systematic properties of the sample design\n",
    "and differential patterns of nonresponse. The SCF response rates are low by the standards\n",
    "of some other major government surveys, and analysis of the data confirms that the\n",
    "tendency to refuse participation is highly correlated with net worth. However, unlike other\n",
    "surveys, which almost certainly also have differential nonresponse by wealthy households,\n",
    "the SCF has the means to adjust for such nonresponse."
   ]
  },
  {
   "cell_type": "markdown",
   "metadata": {},
   "source": [
    "### Imputation\n",
    "\n",
    "From [Codebook 2019](https://www.federalreserve.gov/econres/files/codebk2019.txt)\n",
    "\n",
    "> The imputations are stored as five successive replicates\n",
    "(\"implicates\") of each data record.  Thus, the number of observations\n",
    "in the full data set (28,915) is five times the actual number of\n",
    "respondents (5,783)"
   ]
  },
  {
   "cell_type": "markdown",
   "metadata": {},
   "source": [
    "### Key Data for Merging Datasets and Analysis <a id=\"Key-Data\" ></a>\n",
    "\n"
   ]
  },
  {
   "cell_type": "markdown",
   "metadata": {},
   "source": [
    "[*↑ Back to overview*](#Overview)\n",
    "***"
   ]
  },
  {
   "cell_type": "markdown",
   "metadata": {},
   "source": [
    "## **Data Preparation** <a id=\"Data-Preparation\"></a>\n",
    "[*↑ Back to overview*](#Overview)"
   ]
  },
  {
   "cell_type": "markdown",
   "metadata": {},
   "source": [
    "### Merging Data\n",
    "\n",
    "\n",
    "\n"
   ]
  },
  {
   "cell_type": "markdown",
   "metadata": {},
   "source": [
    "### Cleaning Data <a id=\"Cleaning-Data\"></a>\n",
    "\n"
   ]
  },
  {
   "cell_type": "markdown",
   "metadata": {},
   "source": [
    "[*↑ Back to overview*](#Overview)\n",
    "***"
   ]
  },
  {
   "cell_type": "markdown",
   "metadata": {},
   "source": [
    "## **Data Analysis** <a id=\"Data-Analysis\"></a>\n",
    "[*↑ Back to overview*](#Overview)"
   ]
  },
  {
   "cell_type": "markdown",
   "metadata": {},
   "source": [
    "[*↑ Back to overview*](#Overview)\n",
    "***"
   ]
  },
  {
   "cell_type": "markdown",
   "metadata": {},
   "source": [
    "## **Evaluation**<a id=\"Evaluation\"></a>\n",
    "[*↑ Back to overview*](#Overview)"
   ]
  },
  {
   "cell_type": "markdown",
   "metadata": {},
   "source": [
    "[*↑ Back to overview*](#Overview)\n",
    "***"
   ]
  },
  {
   "cell_type": "markdown",
   "metadata": {},
   "source": [
    "## **Conclusion & Next Steps**<a id=\"Conclusion\"></a>\n",
    "[*↑ Back to overview*](#Overview)"
   ]
  },
  {
   "cell_type": "markdown",
   "metadata": {},
   "source": [
    "[*↑ Back to overview*](#Overview)\n",
    "***"
   ]
  },
  {
   "cell_type": "markdown",
   "metadata": {},
   "source": [
    "## **Endnotes** <a id=\"Endnotes\"></a>\n",
    "[*↑ Back to overview*](#Overview)\n"
   ]
  },
  {
   "cell_type": "markdown",
   "metadata": {},
   "source": [
    "[1.](#fn-1-s)<a id='fn-1'></a> This is footnote 1"
   ]
  },
  {
   "cell_type": "markdown",
   "metadata": {},
   "source": [
    "[*↑ Back to overview*](#Overview)"
   ]
  }
 ],
 "metadata": {
  "kernelspec": {
   "display_name": "learn-env",
   "language": "python",
   "name": "learn-env"
  },
  "language_info": {
   "codemirror_mode": {
    "name": "ipython",
    "version": 3
   },
   "file_extension": ".py",
   "mimetype": "text/x-python",
   "name": "python",
   "nbconvert_exporter": "python",
   "pygments_lexer": "ipython3",
   "version": "3.6.9"
  }
 },
 "nbformat": 4,
 "nbformat_minor": 4
}

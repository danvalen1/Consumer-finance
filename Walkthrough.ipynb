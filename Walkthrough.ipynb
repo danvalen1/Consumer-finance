{
 "cells": [
  {
   "cell_type": "markdown",
   "metadata": {},
   "source": [
    "# **Survey of Consumer Finances Analysis**\n",
    "# Working Title: Perceptions and Reality of U.S. Consumer Finance Risks: An Analysis of COVID-19 effects\n",
    "## Dan Valenzuela\n",
    "\n",
    "***\n",
    "\n"
   ]
  },
  {
   "cell_type": "markdown",
   "metadata": {},
   "source": [
    "## **Overview** <a id=\"Overview\"></a>"
   ]
  },
  {
   "cell_type": "markdown",
   "metadata": {},
   "source": []
  },
  {
   "cell_type": "markdown",
   "metadata": {},
   "source": [
    "[**1. Problem**](#Problem)\n",
    "\n",
    "[**2. Data Understanding**](#Data-Understanding)\n",
    "\n",
    "[**3. Data Preparation**](#Data-Preparation)\n",
    "\n",
    "[**4. Data Analysis**](#Data-Analysis)\n",
    "\n",
    "[**5. Evaluation**](#Evaluation)\n",
    "\n",
    "[**6. Conclusion & Next Steps**](#Conclusion)\n",
    "\n",
    "[**7. Endnotes**](#Endnotes)\n",
    "\n",
    "***"
   ]
  },
  {
   "cell_type": "markdown",
   "metadata": {},
   "source": [
    "## **Problem** <a id=\"Problem\"></a>\n",
    "[*↑ Back to overview*](#Overview)"
   ]
  },
  {
   "cell_type": "markdown",
   "metadata": {},
   "source": [
    "WHat's the worse thing that could happen aside from household being decimated? Corona"
   ]
  },
  {
   "cell_type": "markdown",
   "metadata": {},
   "source": [
    "[*↑ Back to overview*](#Overview)\n",
    "***"
   ]
  },
  {
   "cell_type": "markdown",
   "metadata": {},
   "source": [
    "## **Data Understanding** <a id=\"Data-Understanding\"></a>\n",
    "[*↑ Back to overview*](#Overview)"
   ]
  },
  {
   "cell_type": "code",
   "execution_count": 1,
   "metadata": {},
   "outputs": [],
   "source": [
    "%load_ext autoreload\n",
    "%autoreload 2\n",
    "\n",
    "import os\n",
    "import sys\n",
    "module_path = os.path.abspath(os.path.join(os.pardir, os.pardir))\n",
    "if module_path not in sys.path:\n",
    "    sys.path.append(module_path)\n",
    "    \n",
    "from CustomModules import dataloading as dl\n",
    "\n",
    "targetdir = 'data/extracted/'"
   ]
  },
  {
   "cell_type": "code",
   "execution_count": 59,
   "metadata": {},
   "outputs": [
    {
     "name": "stdout",
     "output_type": "stream",
     "text": [
      "<class 'pandas.core.frame.DataFrame'>\n",
      "Int64Index: 22085 entries, 0 to 22084\n",
      "Columns: 5831 entries, J7578 to J33001\n",
      "dtypes: float32(263), float64(71), int16(2831), int32(372), int8(2294)\n",
      "memory usage: 233.2 MB\n"
     ]
    }
   ],
   "source": [
    "targetdir = 'data/extracted/'\n",
    "\n",
    "df = dl.SCF_load_stata(targetdir, 2007, None)\n",
    "\n",
    "df.info()\n"
   ]
  },
  {
   "cell_type": "code",
   "execution_count": 45,
   "metadata": {},
   "outputs": [
    {
     "name": "stdout",
     "output_type": "stream",
     "text": [
      "<class 'pandas.core.frame.DataFrame'>\n",
      "RangeIndex: 137006 entries, 0 to 137005\n",
      "Columns: 360 entries, HRHHID to PWCMPWGT\n",
      "dtypes: int64(360)\n",
      "memory usage: 376.3 MB\n"
     ]
    }
   ],
   "source": [
    "targetdir = 'data/extracted/'\n",
    "\n",
    "df = dl.CPS_raw(targetdir, ['jan2000'], None)\n",
    "\n",
    "df.info()"
   ]
  },
  {
   "cell_type": "code",
   "execution_count": 46,
   "metadata": {},
   "outputs": [
    {
     "data": {
      "text/html": [
       "<div>\n",
       "<style scoped>\n",
       "    .dataframe tbody tr th:only-of-type {\n",
       "        vertical-align: middle;\n",
       "    }\n",
       "\n",
       "    .dataframe tbody tr th {\n",
       "        vertical-align: top;\n",
       "    }\n",
       "\n",
       "    .dataframe thead th {\n",
       "        text-align: right;\n",
       "    }\n",
       "</style>\n",
       "<table border=\"1\" class=\"dataframe\">\n",
       "  <thead>\n",
       "    <tr style=\"text-align: right;\">\n",
       "      <th></th>\n",
       "      <th>HRHHID</th>\n",
       "      <th>HRMONTH</th>\n",
       "      <th>HRYEAR4</th>\n",
       "      <th>HURESPLI</th>\n",
       "      <th>HUFINAL</th>\n",
       "      <th>HUSPNISH</th>\n",
       "      <th>HETENURE</th>\n",
       "      <th>HEHOUSUT</th>\n",
       "      <th>HETELHHD</th>\n",
       "      <th>HETELAVL</th>\n",
       "      <th>...</th>\n",
       "      <th>PEGRPROF</th>\n",
       "      <th>PEGR6COR</th>\n",
       "      <th>PEMS123</th>\n",
       "      <th>PXDIPGED</th>\n",
       "      <th>PXHGCOMP</th>\n",
       "      <th>PXCYC</th>\n",
       "      <th>PXGRPROF</th>\n",
       "      <th>PXGR6COR</th>\n",
       "      <th>PXMS123</th>\n",
       "      <th>PWCMPWGT</th>\n",
       "    </tr>\n",
       "  </thead>\n",
       "  <tbody>\n",
       "    <tr>\n",
       "      <th>0</th>\n",
       "      <td>5906350895161</td>\n",
       "      <td>1</td>\n",
       "      <td>2000</td>\n",
       "      <td>2</td>\n",
       "      <td>1</td>\n",
       "      <td>-1</td>\n",
       "      <td>2</td>\n",
       "      <td>1</td>\n",
       "      <td>1</td>\n",
       "      <td>-1</td>\n",
       "      <td>...</td>\n",
       "      <td>-1</td>\n",
       "      <td>-1</td>\n",
       "      <td>-1</td>\n",
       "      <td>1</td>\n",
       "      <td>1</td>\n",
       "      <td>1</td>\n",
       "      <td>1</td>\n",
       "      <td>1</td>\n",
       "      <td>1</td>\n",
       "      <td>19322613</td>\n",
       "    </tr>\n",
       "    <tr>\n",
       "      <th>1</th>\n",
       "      <td>5906350895161</td>\n",
       "      <td>1</td>\n",
       "      <td>2000</td>\n",
       "      <td>2</td>\n",
       "      <td>1</td>\n",
       "      <td>-1</td>\n",
       "      <td>2</td>\n",
       "      <td>1</td>\n",
       "      <td>1</td>\n",
       "      <td>-1</td>\n",
       "      <td>...</td>\n",
       "      <td>-1</td>\n",
       "      <td>-1</td>\n",
       "      <td>-1</td>\n",
       "      <td>50</td>\n",
       "      <td>1</td>\n",
       "      <td>0</td>\n",
       "      <td>1</td>\n",
       "      <td>1</td>\n",
       "      <td>1</td>\n",
       "      <td>21592067</td>\n",
       "    </tr>\n",
       "    <tr>\n",
       "      <th>2</th>\n",
       "      <td>5906350895161</td>\n",
       "      <td>1</td>\n",
       "      <td>2000</td>\n",
       "      <td>2</td>\n",
       "      <td>1</td>\n",
       "      <td>-1</td>\n",
       "      <td>2</td>\n",
       "      <td>1</td>\n",
       "      <td>1</td>\n",
       "      <td>-1</td>\n",
       "      <td>...</td>\n",
       "      <td>-1</td>\n",
       "      <td>-1</td>\n",
       "      <td>-1</td>\n",
       "      <td>1</td>\n",
       "      <td>1</td>\n",
       "      <td>1</td>\n",
       "      <td>1</td>\n",
       "      <td>1</td>\n",
       "      <td>1</td>\n",
       "      <td>27125991</td>\n",
       "    </tr>\n",
       "    <tr>\n",
       "      <th>3</th>\n",
       "      <td>8520510992294</td>\n",
       "      <td>1</td>\n",
       "      <td>2000</td>\n",
       "      <td>1</td>\n",
       "      <td>201</td>\n",
       "      <td>-1</td>\n",
       "      <td>1</td>\n",
       "      <td>1</td>\n",
       "      <td>1</td>\n",
       "      <td>1</td>\n",
       "      <td>...</td>\n",
       "      <td>-1</td>\n",
       "      <td>-1</td>\n",
       "      <td>-1</td>\n",
       "      <td>1</td>\n",
       "      <td>1</td>\n",
       "      <td>1</td>\n",
       "      <td>1</td>\n",
       "      <td>1</td>\n",
       "      <td>1</td>\n",
       "      <td>22011391</td>\n",
       "    </tr>\n",
       "    <tr>\n",
       "      <th>4</th>\n",
       "      <td>8520510992294</td>\n",
       "      <td>1</td>\n",
       "      <td>2000</td>\n",
       "      <td>1</td>\n",
       "      <td>201</td>\n",
       "      <td>-1</td>\n",
       "      <td>1</td>\n",
       "      <td>1</td>\n",
       "      <td>1</td>\n",
       "      <td>1</td>\n",
       "      <td>...</td>\n",
       "      <td>-1</td>\n",
       "      <td>-1</td>\n",
       "      <td>-1</td>\n",
       "      <td>1</td>\n",
       "      <td>1</td>\n",
       "      <td>0</td>\n",
       "      <td>1</td>\n",
       "      <td>1</td>\n",
       "      <td>1</td>\n",
       "      <td>19322613</td>\n",
       "    </tr>\n",
       "  </tbody>\n",
       "</table>\n",
       "<p>5 rows × 360 columns</p>\n",
       "</div>"
      ],
      "text/plain": [
       "          HRHHID  HRMONTH  HRYEAR4  HURESPLI  HUFINAL  HUSPNISH  HETENURE  \\\n",
       "0  5906350895161        1     2000         2        1        -1         2   \n",
       "1  5906350895161        1     2000         2        1        -1         2   \n",
       "2  5906350895161        1     2000         2        1        -1         2   \n",
       "3  8520510992294        1     2000         1      201        -1         1   \n",
       "4  8520510992294        1     2000         1      201        -1         1   \n",
       "\n",
       "   HEHOUSUT  HETELHHD  HETELAVL  ...  PEGRPROF  PEGR6COR  PEMS123  PXDIPGED  \\\n",
       "0         1         1        -1  ...        -1        -1       -1         1   \n",
       "1         1         1        -1  ...        -1        -1       -1        50   \n",
       "2         1         1        -1  ...        -1        -1       -1         1   \n",
       "3         1         1         1  ...        -1        -1       -1         1   \n",
       "4         1         1         1  ...        -1        -1       -1         1   \n",
       "\n",
       "   PXHGCOMP  PXCYC  PXGRPROF  PXGR6COR  PXMS123  PWCMPWGT  \n",
       "0         1      1         1         1        1  19322613  \n",
       "1         1      0         1         1        1  21592067  \n",
       "2         1      1         1         1        1  27125991  \n",
       "3         1      1         1         1        1  22011391  \n",
       "4         1      0         1         1        1  19322613  \n",
       "\n",
       "[5 rows x 360 columns]"
      ]
     },
     "execution_count": 46,
     "metadata": {},
     "output_type": "execute_result"
    }
   ],
   "source": [
    "df.head()"
   ]
  },
  {
   "cell_type": "code",
   "execution_count": 47,
   "metadata": {},
   "outputs": [],
   "source": [
    "dl.CPS_vars(targetdir, 'jan2000', None);"
   ]
  },
  {
   "cell_type": "markdown",
   "metadata": {},
   "source": [
    "### Datasets\n",
    "\n",
    "The data can be summarized by the [Federal Reserve](https://www.federalreserve.gov/publications/files/scf20.pdf) itself [<sup>1</sup>](#fn-1)<a id='fn-1-s'></a>: \n",
    "\n",
    "> The SCF is a triennial interview survey of U.S. families sponsored by the\n",
    "Board of Governors of the Federal Reserve System with the cooperation of the U.S.\n",
    "Department of the Treasury. Since 1992, data for the SCF have been collected by NORC, a\n",
    "research organization at the University of Chicago. Although the majority of the data are\n",
    "collected between May and December of each survey year, a small fraction of the data\n",
    "collection occurs in the first four months of the next calendar year. In the 2019 SCF, this\n",
    "portion of the data collection overlapped with early months of the COVID-19 pandemic,\n",
    "with about 9 percent of interviews conducted between February and April 2020.\n",
    "\n",
    " "
   ]
  },
  {
   "cell_type": "markdown",
   "metadata": {},
   "source": [
    "### Sampling\n",
    "From [Federal Reserve Bulletin 2020 at 40](https://www.federalreserve.gov/publications/files/scf20.pdf)\n",
    ">First, a standard multistage area-probability sample (a geographically based random sample) is selected\n",
    "to provide good coverage of characteristics, such as homeownership, that are broadly\n",
    "distributed in the population.\n",
    "Second, a supplemental sample is selected to disproportionately include wealthy families,\n",
    "which hold a relatively large share of such thinly held assets as noncorporate businesses\n",
    "and tax-exempt bonds. Called the “list sample,” this group is drawn from a list of statistical\n",
    "records derived from tax returns. These records are used under strict rules governing\n",
    "confidentiality, the rights of potential respondents to refuse participation in the survey, and\n",
    "the types of information that can be made available. Persons listed by Forbes as being\n",
    "among the wealthiest 400 people in the United States are excluded from sampling.\n",
    "\n",
    ">Of the 5,783 interviews completed for the 2019 SCF, 4,291 were from the area-probability\n",
    "sample, and 1,492 were from the list sample; for 2016, 4,754 were from the area-probability\n",
    "sample, and 1,500 were from the list sample."
   ]
  },
  {
   "cell_type": "markdown",
   "metadata": {},
   "source": [
    "### Weighting\n",
    "\n",
    "From [Federal Reserve Bulletin 2020 at 42](https://www.federalreserve.gov/publications/files/scf20.pdf)\n",
    "\n",
    ">To provide a measure of the frequency with which families similar to the sample families\n",
    "could be expected to be found in the population of all families, an analysis weight is\n",
    "computed for each case, accounting for both the systematic properties of the sample design\n",
    "and differential patterns of nonresponse. The SCF response rates are low by the standards\n",
    "of some other major government surveys, and analysis of the data confirms that the\n",
    "tendency to refuse participation is highly correlated with net worth. However, unlike other\n",
    "surveys, which almost certainly also have differential nonresponse by wealthy households,\n",
    "the SCF has the means to adjust for such nonresponse."
   ]
  },
  {
   "cell_type": "markdown",
   "metadata": {},
   "source": [
    "From [Codebook 2019](https://www.federalreserve.gov/econres/files/codebk2019.txt)\n",
    "> The issue of weighting in regressions has long been controversial.\n",
    "Users of the SCF may find two references particularly useful:\n",
    "(1) Analysis of Complex Surveys, C.J. Skinner, D. Holt, and\n",
    "T.M.F. Smith (editors), John Wiley and Sons, 1989 (see particularly\n",
    "pages 8-10, 154-157, and 286-287). (2) The Analysis of Household\n",
    "Surveys: A Microeconometric Approach to Development Policy, Angus\n",
    "Deaton, Johns Hopkins University Press, 1997 (see particularly pages\n",
    "67-73).  "
   ]
  },
  {
   "cell_type": "markdown",
   "metadata": {},
   "source": [
    "### Imputation\n",
    "\n",
    "From [Codebook 2019](https://www.federalreserve.gov/econres/files/codebk2019.txt)\n",
    "\n",
    "> The imputations are stored as five successive replicates\n",
    "(\"implicates\") of each data record.  Thus, the number of observations\n",
    "in the full data set (28,915) is five times the actual number of\n",
    "respondents (5,783)\n",
    "\n",
    ">Users who want to estimate more complex statistics, particularly\n",
    "regressions, should be cautious in their treatment of the implicates.\n",
    "Some regression packages will treat each of the five implicates as an\n",
    "independent observation and correspondingly inflate the reported\n",
    "statistical significance of results.  Users who want to calculate\n",
    "regression estimates, but who have no immediate use for proper significance\n",
    "tests, could either average the dependent and independent values\n",
    "across the implicates or multiply their standard errors by the square\n",
    "root of five.  For an easily understandable discussion of multiple\n",
    "imputation in the SCF from a user's point of view, see Catherine\n",
    "Montalto and Jaimie Sung, \"Multiple Imputation in the 1992 Survey of\n",
    "Consumer Finances,\" Financial Counseling and Planning, Volume 7, 1996,\n",
    "pages 133-146 (http://afcpe.org/assets/pdf/vol7_133-146multipleimputation.pdf).\n",
    "That article also contains a set of simple SAS macros to\n",
    "use to compute correct standard errors from multiply imputed data.\n",
    "Two alternatives for processing general model estimates are offered\n",
    "here, one written in SAS (MACRO MISECOMP) and the other in a Stata\n",
    "ado file (micombine).  (NOTE: both SAS and Stata now include regression\n",
    "packages for the analysis of multiply imputed data.)  See the section\n",
    "\"ANALYSIS WEIGHTS\" below for a brief discussion of the inclusion of\n",
    "sample design effects in the estimation of complex statistics"
   ]
  },
  {
   "cell_type": "markdown",
   "metadata": {},
   "source": [
    "### Key Data for Merging Datasets and Analysis <a id=\"Key-Data\" ></a>\n",
    "\n"
   ]
  },
  {
   "cell_type": "markdown",
   "metadata": {},
   "source": [
    "[*↑ Back to overview*](#Overview)\n",
    "***"
   ]
  },
  {
   "cell_type": "markdown",
   "metadata": {},
   "source": [
    "## **Data Preparation** <a id=\"Data-Preparation\"></a>\n",
    "[*↑ Back to overview*](#Overview)"
   ]
  },
  {
   "cell_type": "markdown",
   "metadata": {},
   "source": [
    "### Merging Data\n",
    "\n",
    "\n",
    "\n"
   ]
  },
  {
   "cell_type": "markdown",
   "metadata": {},
   "source": [
    "### Cleaning Data <a id=\"Cleaning-Data\"></a>\n",
    "\n"
   ]
  },
  {
   "cell_type": "markdown",
   "metadata": {},
   "source": [
    "[*↑ Back to overview*](#Overview)\n",
    "***"
   ]
  },
  {
   "cell_type": "markdown",
   "metadata": {},
   "source": [
    "## **Data Analysis** <a id=\"Data-Analysis\"></a>\n",
    "[*↑ Back to overview*](#Overview)"
   ]
  },
  {
   "cell_type": "markdown",
   "metadata": {},
   "source": [
    "[*↑ Back to overview*](#Overview)\n",
    "***"
   ]
  },
  {
   "cell_type": "markdown",
   "metadata": {},
   "source": [
    "## **Evaluation**<a id=\"Evaluation\"></a>\n",
    "[*↑ Back to overview*](#Overview)"
   ]
  },
  {
   "cell_type": "markdown",
   "metadata": {},
   "source": [
    "[*↑ Back to overview*](#Overview)\n",
    "***"
   ]
  },
  {
   "cell_type": "markdown",
   "metadata": {},
   "source": [
    "## **Conclusion & Next Steps**<a id=\"Conclusion\"></a>\n",
    "[*↑ Back to overview*](#Overview)"
   ]
  },
  {
   "cell_type": "markdown",
   "metadata": {},
   "source": [
    "[*↑ Back to overview*](#Overview)\n",
    "***"
   ]
  },
  {
   "cell_type": "markdown",
   "metadata": {},
   "source": [
    "## **Endnotes** <a id=\"Endnotes\"></a>\n",
    "[*↑ Back to overview*](#Overview)\n"
   ]
  },
  {
   "cell_type": "markdown",
   "metadata": {},
   "source": [
    "[1.](#fn-1-s)<a id='fn-1'></a> This is footnote 1"
   ]
  },
  {
   "cell_type": "markdown",
   "metadata": {},
   "source": [
    "[*↑ Back to overview*](#Overview)"
   ]
  }
 ],
 "metadata": {
  "kernelspec": {
   "display_name": "learn-env",
   "language": "python",
   "name": "learn-env"
  },
  "language_info": {
   "codemirror_mode": {
    "name": "ipython",
    "version": 3
   },
   "file_extension": ".py",
   "mimetype": "text/x-python",
   "name": "python",
   "nbconvert_exporter": "python",
   "pygments_lexer": "ipython3",
   "version": "3.6.10"
  }
 },
 "nbformat": 4,
 "nbformat_minor": 4
}
